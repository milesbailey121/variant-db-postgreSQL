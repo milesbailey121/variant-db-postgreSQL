{
 "cells": [
  {
   "cell_type": "code",
   "execution_count": 2,
   "metadata": {},
   "outputs": [],
   "source": [
    "import json, psycopg2"
   ]
  },
  {
   "cell_type": "code",
   "execution_count": 1,
   "metadata": {},
   "outputs": [],
   "source": [
    "fpath = \"config.json\""
   ]
  },
  {
   "cell_type": "code",
   "execution_count": 15,
   "metadata": {},
   "outputs": [],
   "source": [
    "def configargs(fpath): # Load config args for db connection\n",
    "    with open(fpath,\"r\") as config_file:\n",
    "        config = json.load(config_file)\n",
    "    \n",
    "    db_host = config[\"postgreSQL\"][\"hostname\"]\n",
    "    db_name = config[\"postgreSQL\"][\"database\"]\n",
    "    db_user = config[\"postgreSQL\"][\"username\"]\n",
    "    db_password = config[\"postgreSQL\"][\"pwd\"]\n",
    "    db_port = config[\"postgreSQL\"][\"port_id\"]\n",
    "    \n",
    "    return db_host,db_name,db_user,db_password,db_port"
   ]
  },
  {
   "cell_type": "code",
   "execution_count": 16,
   "metadata": {},
   "outputs": [
    {
     "name": "stdout",
     "output_type": "stream",
     "text": [
      "postgreSQL {'hostname': 'localhost', 'database': 'variant-db-postgreSQL', 'username': 'postgres', 'pwd': '#Miles101', 'port_id': '5432'}\n"
     ]
    }
   ],
   "source": [
    "configargs(fpath)"
   ]
  },
  {
   "cell_type": "code",
   "execution_count": 19,
   "metadata": {},
   "outputs": [],
   "source": [
    "db_host,db_name,db_user,db_password,db_port = configargs(fpath)"
   ]
  },
  {
   "cell_type": "code",
   "execution_count": 32,
   "metadata": {},
   "outputs": [],
   "source": [
    "def execquery(query):\n",
    "    try:\n",
    "        connection = psycopg2.connect(\n",
    "            host = db_host,\n",
    "            dbname = db_name,\n",
    "            user = db_user,\n",
    "            password = db_password,\n",
    "            port = db_port\n",
    "        )\n",
    "\n",
    "        cursor = connection.cursor()\n",
    "\n",
    "        cursor.execute(query=query)\n",
    "\n",
    "        connection.commit()\n",
    "\n",
    "        cursor.close()\n",
    "        connection.close()\n",
    "\n",
    "    except Exception as error:\n",
    "            print(\"Error while connecting to db \", error)\n",
    "    finally:\n",
    "        if connection:\n",
    "            cursor.close()\n",
    "            connection.close()\n",
    "            print(\"PostgreSQL connection is closed\")\n"
   ]
  },
  {
   "cell_type": "code",
   "execution_count": 26,
   "metadata": {},
   "outputs": [
    {
     "name": "stdout",
     "output_type": "stream",
     "text": [
      "[(1, 'Miles', 'miles@fake.email', 'repigujhbs', 30)]\n",
      "PostgreSQL connection is closed\n"
     ]
    }
   ],
   "source": [
    "query = \"SELECT * FROM \\\"user\\\" WHERE id = 1;\"\n",
    "execquery(query)"
   ]
  },
  {
   "cell_type": "code",
   "execution_count": 33,
   "metadata": {},
   "outputs": [
    {
     "name": "stdout",
     "output_type": "stream",
     "text": [
      "PostgreSQL connection is closed\n"
     ]
    }
   ],
   "source": [
    "query = \"\"\"INSERT INTO \"user\"(name,email,password,age) VALUES(%s,%s,%s,%s)\"\"\"\n",
    "execquery(query)"
   ]
  }
 ],
 "metadata": {
  "kernelspec": {
   "display_name": ".venv",
   "language": "python",
   "name": "python3"
  },
  "language_info": {
   "codemirror_mode": {
    "name": "ipython",
    "version": 3
   },
   "file_extension": ".py",
   "mimetype": "text/x-python",
   "name": "python",
   "nbconvert_exporter": "python",
   "pygments_lexer": "ipython3",
   "version": "3.12.7"
  }
 },
 "nbformat": 4,
 "nbformat_minor": 2
}
